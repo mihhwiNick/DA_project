{
  "nbformat": 4,
  "nbformat_minor": 0,
  "metadata": {
    "colab": {
      "provenance": [],
      "authorship_tag": "ABX9TyNvFFlkqgudHxbci1euSC3B",
      "include_colab_link": true
    },
    "kernelspec": {
      "name": "python3",
      "display_name": "Python 3"
    },
    "language_info": {
      "name": "python"
    }
  },
  "cells": [
    {
      "cell_type": "markdown",
      "metadata": {
        "id": "view-in-github",
        "colab_type": "text"
      },
      "source": [
        "<a href=\"https://colab.research.google.com/github/mihhwiNick/DA_project/blob/hoang/Benh_tieu_duong.ipynb\" target=\"_parent\"><img src=\"https://colab.research.google.com/assets/colab-badge.svg\" alt=\"Open In Colab\"/></a>"
      ]
    },
    {
      "cell_type": "markdown",
      "source": [
        "#Tiêu đề:Sử dụng thuật toán ADAP để dự đoán bệnh tiểu đường"
      ],
      "metadata": {
        "id": "8ek38kA-ykrm"
      }
    },
    {
      "cell_type": "markdown",
      "source": [
        "##1.Định nghĩa vấn đề\n",
        "+ **Mô tả**:\n",
        "   + Bộ dữ liệu gồm 768 mẫu từ bệnh nhân đều là nữ giới, ít nhất 21 tuổi, và có nguồn gốc người da đỏ Pima.\n",
        "   + 8 đặc điểm được đo từ mỗi mẫu: Số lần mang thai, Nồng độ glucose huyết tương sau 2 giờ trong xét nghiệm dung nạp glucose đường uống, Huyết áp tâm trương (mm Hg),Độ dày nếp gấp da cơ tam đầu (mm), Nồng độ insulin huyết thanh sau 2 giờ (mu U/ml),Chỉ số khối cơ thể BMI (cân nặng kg / (chiều cao m)²), Hàm phả hệ tiểu đường (Diabetes pedigree function), Tuổi (năm)\n",
        "+ **Dữ liệu vào**:\n",
        "   + Số lần mang thai\n",
        "   + Nồng độ glucose huyết tương sau 2 giờ trong xét nghiệm dung nạp glucose đường uống\n",
        "   + Huyết áp tâm trương (mm Hg)\n",
        "   + Độ dày nếp gấp da cơ tam đầu (mm)\n",
        "   + Nồng độ insulin huyết thanh sau 2 giờ (mu U/ml)\n",
        "   + Chỉ số khối cơ thể BMI (cân nặng kg / (chiều cao m)²)\n",
        "   + Hàm phả hệ tiểu đường (Diabetes pedigree function)\n",
        "   + Tuổi (năm)\n",
        "+ **Dữ liệu ra**:\n",
        "   + Dự đoán bệnh nhân có tiểu đường không (Biến phân loại 0 hoặc 1)"
      ],
      "metadata": {
        "id": "JxAqdrdkzSQp"
      }
    },
    {
      "cell_type": "markdown",
      "source": [],
      "metadata": {
        "id": "q56btRukzsEY"
      }
    }
  ]
}