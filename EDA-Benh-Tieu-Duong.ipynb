{
  "nbformat": 4,
  "nbformat_minor": 0,
  "metadata": {
    "colab": {
      "provenance": [],
      "toc_visible": true,
      "include_colab_link": true
    },
    "kernelspec": {
      "name": "python3",
      "display_name": "Python 3"
    },
    "language_info": {
      "name": "python"
    }
  },
  "cells": [
    {
      "cell_type": "markdown",
      "metadata": {
        "id": "view-in-github",
        "colab_type": "text"
      },
      "source": [
        "<a href=\"https://colab.research.google.com/github/mihhwiNick/DA_project/blob/main/Benh_tieu_duong.ipynb\" target=\"_parent\"><img src=\"https://colab.research.google.com/assets/colab-badge.svg\" alt=\"Open In Colab\"/></a>"
      ]
    },
    {
      "cell_type": "markdown",
      "source": [
        "#Sử dụng thuật toán ADAP để dự đoán bệnh tiểu đường"
      ],
      "metadata": {
        "id": "8ek38kA-ykrm"
      }
    },
    {
      "cell_type": "markdown",
      "source": [
        "##1.Định nghĩa vấn đề\n",
        "+ **Mô tả**:\n",
        "   + Bộ dữ liệu gồm 768 mẫu từ bệnh nhân đều là nữ giới, ít nhất 21 tuổi, và có nguồn gốc người da đỏ Pima, sống gần Phoenix, Arizona.\n",
        "   + 8 đặc điểm được đo từ mỗi mẫu + 1 biến phân loại (có/không mắc tiểu đường)\n",
        "+ **Dữ liệu vào**:\n",
        "   + Số lần mang thai (lần)\n",
        "   + Nồng độ glucose huyết tương sau 2 giờ trong xét nghiệm dung nạp glucose đường uống (mg/dL)\n",
        "   + Huyết áp tâm trương (mm Hg)\n",
        "   + Độ dày nếp gấp da cơ tam đầu (mm)\n",
        "   + Nồng độ insulin huyết thanh sau 2 giờ (mu U/ml)\n",
        "   + Chỉ số khối cơ thể BMI (kg/m²)\n",
        "   + Hàm phả hệ tiểu đường ()\n",
        "   + Tuổi (năm)\n",
        "   + Biến phân loại (nhị phân)\n",
        "+ **Dữ liệu ra**:\n",
        "   + Dự đoán bệnh nhân có tiểu đường không (Biến phân loại 0 hoặc 1)"
      ],
      "metadata": {
        "id": "JxAqdrdkzSQp"
      }
    },
    {
      "cell_type": "markdown",
      "source": [
        "## 2.Chuẩn bị vấn đề"
      ],
      "metadata": {
        "id": "baPh2rMyCbte"
      }
    },
    {
      "cell_type": "markdown",
      "source": [
        "### 2.1.Khai báo thư viện"
      ],
      "metadata": {
        "id": "1QQmn_3mCeeE"
      }
    },
    {
      "cell_type": "code",
      "source": [
        "# Load libraries\n",
        "import pandas as pd\n",
        "import numpy as np\n",
        "import seaborn as sns\n",
        "import sklearn.model_selection as mod\n",
        "import sklearn.neighbors as nei\n",
        "from sklearn.neighbors import KNeighborsClassifier\n",
        "from sklearn.model_selection import KFold\n",
        "from sklearn.model_selection import StratifiedKFold\n",
        "from sklearn.model_selection import LeaveOneOut\n",
        "from sklearn import metrics\n",
        "from sklearn.metrics import accuracy_score, confusion_matrix, roc_curve, roc_auc_score, classification_report, precision_recall_curve, average_precision_score\n",
        "from sklearn.naive_bayes import MultinomialNB\n",
        "from sklearn.model_selection import cross_val_score\n",
        "from sklearn.feature_selection import RFECV\n",
        "from sklearn.svm import SVC\n",
        "import matplotlib.pyplot as plt\n",
        "import statsmodels.api as sm\n",
        "from sklearn.linear_model import LogisticRegression\n",
        "from sklearn.metrics import classification_report\n",
        "from sklearn.metrics import confusion_matrix\n",
        "import operator\n",
        "%matplotlib inline"
      ],
      "metadata": {
        "id": "hHLGPuI5CkfW"
      },
      "execution_count": 2,
      "outputs": []
    },
    {
      "cell_type": "markdown",
      "source": [
        "### 2.2.Nạp dữ liệu"
      ],
      "metadata": {
        "id": "lgwL5at7G_yH"
      }
    },
    {
      "cell_type": "code",
      "source": [
        "#load data\n",
        "pima = pd.read_csv('https://raw.githubusercontent.com/mihhwiNick/DA_project/refs/heads/main/pima-indians-diabetes.data.csv')"
      ],
      "metadata": {
        "id": "GazIwABEHIRc"
      },
      "execution_count": 16,
      "outputs": []
    },
    {
      "cell_type": "markdown",
      "source": [
        "## 3.Phân tích dữ liệu"
      ],
      "metadata": {
        "id": "kNbXjS7GIcxd"
      }
    },
    {
      "cell_type": "markdown",
      "source": [
        "### 3.1.Thống kê mô tả"
      ],
      "metadata": {
        "id": "bbvfFy4UIe_D"
      }
    },
    {
      "cell_type": "markdown",
      "source": [
        "#### (1) **Hiển thị một số thông tin về dữ liệu**\n",
        "+ Số dòng, số cột của dữ liệu\n",
        "+ Kiểu dữ liệu của từng cột\n",
        "+ Tên cột\n",
        "+ 5 dòng đầu và 5 dòng cuối của bảng dữ liệu\n",
        "+ Thông tin chung về dữ liệu"
      ],
      "metadata": {
        "id": "al5SjJVPImZD"
      }
    },
    {
      "cell_type": "code",
      "source": [
        "# Get shape\n",
        "print(f'+ Shape: {pima.shape}')\n",
        "\n",
        "# Get types\n",
        "print(f'+ Data Types:\\n{pima.dtypes}')\n",
        "\n",
        "# Get columns\n",
        "print(f'+ Columns:\\n{pima.columns.tolist()}')\n",
        "\n",
        "# Check the first 5 rows (head)\n",
        "print('\\n+ First 5 rows:')\n",
        "print(pima.head(5))\n",
        "\n",
        "# Check the last 5 rows (tail)\n",
        "print('\\n+ Last 5 rows:')\n",
        "print(pima.tail(5))"
      ],
      "metadata": {
        "id": "xg1Ki38XIoTU",
        "outputId": "e15f0efd-9d49-44b8-dc5e-d1d4d58f96c9",
        "colab": {
          "base_uri": "https://localhost:8080/"
        }
      },
      "execution_count": 18,
      "outputs": [
        {
          "output_type": "stream",
          "name": "stdout",
          "text": [
            "+ Shape: (767, 9)\n",
            "+ Data Types:\n",
            "6          int64\n",
            "148        int64\n",
            "72         int64\n",
            "35         int64\n",
            "0          int64\n",
            "33.6     float64\n",
            "0.627    float64\n",
            "50         int64\n",
            "1          int64\n",
            "dtype: object\n",
            "+ Columns:\n",
            "['6', '148', '72', '35', '0', '33.6', '0.627', '50', '1']\n",
            "\n",
            "+ First 5 rows:\n",
            "   6  148  72  35    0  33.6  0.627  50  1\n",
            "0  1   85  66  29    0  26.6  0.351  31  0\n",
            "1  8  183  64   0    0  23.3  0.672  32  1\n",
            "2  1   89  66  23   94  28.1  0.167  21  0\n",
            "3  0  137  40  35  168  43.1  2.288  33  1\n",
            "4  5  116  74   0    0  25.6  0.201  30  0\n",
            "\n",
            "+ Last 5 rows:\n",
            "      6  148  72  35    0  33.6  0.627  50  1\n",
            "762  10  101  76  48  180  32.9  0.171  63  0\n",
            "763   2  122  70  27    0  36.8  0.340  27  0\n",
            "764   5  121  72  23  112  26.2  0.245  30  0\n",
            "765   1  126  60   0    0  30.1  0.349  47  1\n",
            "766   1   93  70  31    0  30.4  0.315  23  0\n"
          ]
        }
      ]
    }
  ]
}
